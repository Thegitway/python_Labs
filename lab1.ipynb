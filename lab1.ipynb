{
 "cells": [
  {
   "cell_type": "markdown",
   "id": "8a600eb6",
   "metadata": {},
   "source": [
    "# Lab1:Python"
   ]
  },
  {
   "cell_type": "markdown",
   "id": "6b9edd26",
   "metadata": {},
   "source": [
    "Question 1)\n",
    "Afficher des nombres aleatoirement de 1,6"
   ]
  },
  {
   "cell_type": "code",
   "execution_count": 1,
   "id": "868a9792",
   "metadata": {},
   "outputs": [
    {
     "name": "stdout",
     "output_type": "stream",
     "text": [
      "6\n"
     ]
    }
   ],
   "source": [
    "from random import randint as ran\n",
    "print(ran(1,6))"
   ]
  },
  {
   "cell_type": "markdown",
   "id": "f67630e2",
   "metadata": {},
   "source": [
    "Question 2)\n",
    "Afficher des mot aleatoire d'une liste"
   ]
  },
  {
   "cell_type": "code",
   "execution_count": 2,
   "id": "5fb6d3e4",
   "metadata": {},
   "outputs": [
    {
     "name": "stdout",
     "output_type": "stream",
     "text": [
      "omar\n"
     ]
    }
   ],
   "source": [
    "from random import choice\n",
    "print(choice(['sosmula','zillakami','omar','tt']))"
   ]
  },
  {
   "cell_type": "markdown",
   "id": "fd142b42",
   "metadata": {},
   "source": [
    "Question 3)\n",
    "Afficher des images aleatoirement"
   ]
  },
  {
   "cell_type": "code",
   "execution_count": 3,
   "id": "5aa58a56",
   "metadata": {},
   "outputs": [
    {
     "name": "stdout",
     "output_type": "stream",
     "text": [
      "pics\\barack-obama-12782369-1-402.jpg\n"
     ]
    },
    {
     "data": {
      "image/png": "[encoded data removed]",
      "text/plain": [
       "<IPython.core.display.Image object>"
      ]
     },
     "metadata": {},
     "output_type": "display_data"
    }
   ],
   "source": [
    "from os import listdir\n",
    "from IPython.display import display,Image\n",
    "from os.path import isfile, join\n",
    "\n",
    "onlyfiles = [f for f in listdir(r'pics') if isfile(join(r'pics', f))]\n",
    "\n",
    "print(join(r'pics',choice(onlyfiles)))\n",
    "display(Image(join(r'pics',choice(onlyfiles))))"
   ]
  },
  {
   "cell_type": "markdown",
   "id": "d8294d43",
   "metadata": {},
   "source": [
    "Question 4)\n",
    "resize the pic"
   ]
  },
  {
   "cell_type": "code",
   "execution_count": 4,
   "id": "14ba4ddc",
   "metadata": {},
   "outputs": [],
   "source": [
    "from PIL import Image\n",
    "\n",
    "basewidth = 100\n",
    "for pic in onlyfiles:\n",
    "    img = Image.open(join(r'pics',pic))\n",
    "    wpercent = (basewidth / float(img.size[0]))\n",
    "    hsize = int((float(img.size[1]) * float(wpercent)))\n",
    "    img = img.resize((basewidth, hsize), Image.ANTIALIAS)\n",
    "    img.save(join(r'pics',pic))"
   ]
  },
  {
   "cell_type": "markdown",
   "id": "de127afd",
   "metadata": {},
   "source": [
    "Question 5)\n",
    "displaying only 1 pic at a time"
   ]
  },
  {
   "cell_type": "code",
   "execution_count": 43,
   "id": "2e8d82e8",
   "metadata": {},
   "outputs": [
    {
     "name": "stdout",
     "output_type": "stream",
     "text": [
      "\n",
      " pics\\omar1.jpeg\n"
     ]
    },
    {
     "data": {
      "image/jpeg": "[encoded data removed]",
      "text/plain": [
       "<IPython.core.display.Image object>"
      ]
     },
     "metadata": {},
     "output_type": "display_data"
    },
    {
     "name": "stdout",
     "output_type": "stream",
     "text": [
      "to quite click q :q\n"
     ]
    }
   ],
   "source": [
    "from os import listdir\n",
    "from IPython.display import display,Image\n",
    "from os.path import isfile, join\n",
    "from random import choice\n",
    "\n",
    "\n",
    "onlyfiles = [f for f in listdir(r'pics') if isfile(join(r'pics', f))]\n",
    "s=''\n",
    "while onlyfiles and s!='q':\n",
    "    pic=choice(onlyfiles)\n",
    "    print('\\n',join(r'pics',pic))\n",
    "    display(Image(join(r'pics',pic)))\n",
    "    onlyfiles.remove(pic)\n",
    "    s=input('to quite click q :')"
   ]
  },
  {
   "cell_type": "markdown",
   "id": "782cce03",
   "metadata": {},
   "source": [
    "to install face_recognition"
   ]
  },
  {
   "cell_type": "markdown",
   "id": "1dfcd5f9",
   "metadata": {},
   "source": [
    "## conda install -c conda-forge face_recognition"
   ]
  },
  {
   "cell_type": "code",
   "execution_count": 40,
   "id": "54169efe",
   "metadata": {},
   "outputs": [
    {
     "name": "stdout",
     "output_type": "stream",
     "text": [
      "pics\\omar1.jpeg\n"
     ]
    },
    {
     "data": {
      "image/jpeg": "[encoded data removed]",
      "text/plain": [
       "<IPython.core.display.Image object>"
      ]
     },
     "metadata": {},
     "output_type": "display_data"
    },
    {
     "name": "stdout",
     "output_type": "stream",
     "text": [
      "[(44, 78, 95, 26)]\n"
     ]
    }
   ],
   "source": [
    "import face_recognition\n",
    "from os import listdir\n",
    "from IPython.display import display,Image\n",
    "from os.path import isfile, join\n",
    "onlyfiles = [f for f in listdir(r'pics') if isfile(join(r'pics', f))]\n",
    "pic=choice(onlyfiles)\n",
    "print(join(r'pics',pic))\n",
    "display(Image(join(r'pics',pic)))\n",
    "\n",
    "image = face_recognition.load_image_file(join(r'pics',pic))\n",
    "\n",
    "face_locations = face_recognition.face_locations(image)\n",
    "print(face_locations)"
   ]
  },
  {
   "cell_type": "markdown",
   "id": "cd0f32ee",
   "metadata": {},
   "source": [
    "drawing a rectangle in the image"
   ]
  },
  {
   "cell_type": "code",
   "execution_count": 41,
   "id": "abfbdcef",
   "metadata": {},
   "outputs": [],
   "source": [
    "from PIL import Image,ImageDraw\n",
    " \n",
    "# Opens a image in RGB mode\n",
    "image_pil = Image.open(join(r'pics',pic))\n",
    "face_encoding=face_recognition.face_encodings(image)[0]\n",
    "#image_pil=Image.fromarray(face_encoding[0])\n",
    "draw=ImageDraw.Draw(image_pil)\n",
    "#left top right bottom\n",
    "#1 0 3 2\n",
    "draw.rectangle(((face_locations[0][1],face_locations[0][0]),(face_locations[0][3], face_locations[0][2])))\n",
    "image_pil.show()\n"
   ]
  },
  {
   "cell_type": "markdown",
   "id": "4b8e711d",
   "metadata": {},
   "source": [
    "face comparaison"
   ]
  },
  {
   "cell_type": "code",
   "execution_count": 42,
   "id": "c3633fc1",
   "metadata": {},
   "outputs": [
    {
     "name": "stdout",
     "output_type": "stream",
     "text": [
      "['pics\\\\omar1.jpeg', 'pics\\\\omar2.png', 'pics\\\\omar3.jpeg']\n",
      "[True]\n",
      "it's omar\n"
     ]
    }
   ],
   "source": [
    "import face_recognition\n",
    "from os import listdir\n",
    "from IPython.display import display,Image\n",
    "from os.path import isfile, join\n",
    "import glob\n",
    "\n",
    "list=[]\n",
    "list=glob.glob(r'pics\\omar*')\n",
    "print(list)\n",
    "\n",
    "pathomar1=list[0]\n",
    "pathomar2=list[1]\n",
    "\n",
    "\n",
    "omar1 = face_recognition.load_image_file(pathomar1)\n",
    "omar2 = face_recognition.load_image_file(pathomar2)\n",
    "\n",
    "omar_encoding1=face_recognition.face_encodings(omar1)[0]\n",
    "omar_encoding2=face_recognition.face_encodings(omar2)[0]\n",
    "\n",
    "\n",
    "result = face_recognition.compare_faces([omar_encoding2], omar_encoding1)\n",
    "print(result)\n",
    "if  result[0] == True:\n",
    "    print(\"\"\"it's omar\"\"\")\n",
    "else:\n",
    "    print(\"\"\"unknown\"\"\")"
   ]
  },
  {
   "cell_type": "markdown",
   "id": "5c0411d0",
   "metadata": {},
   "source": [
    "detect gender\n",
    "\n",
    "## conda install -c conda-forge face_recognition"
   ]
  },
  {
   "cell_type": "code",
   "execution_count": 56,
   "id": "fdfae26c",
   "metadata": {},
   "outputs": [],
   "source": [
    "import cv2\n",
    "import numpy as np\n",
    "\n",
    "# The gender model architecture\n",
    "\n",
    "GENDER_MODEL = 'deploy_gender.prototxt'\n",
    "\n",
    "# The gender model pre-trained weights\n",
    "GENDER_PROTO = 'gender_net.caffemodel'\n",
    "# Each Caffe Model impose the shape of the input image also image preprocessing is required like mean\n",
    "# substraction to eliminate the effect of illunination changes\n",
    "MODEL_MEAN_VALUES = (78.4263377603, 87.7689143744, 114.895847746)\n",
    "# Represent the gender classes\n",
    "GENDER_LIST = ['Male', 'Female']\n",
    "\n",
    "FACE_PROTO = \"deploy.prototxt.txt\"\n",
    "\n",
    "FACE_MODEL = \"res10_300x300_ssd_iter_140000_fp16.caffemodel\"\n"
   ]
  },
  {
   "cell_type": "code",
   "execution_count": 57,
   "id": "10f65478",
   "metadata": {},
   "outputs": [],
   "source": [
    "# load face Caffe model\n",
    "face_net = cv2.dnn.readNetFromCaffe(FACE_PROTO, FACE_MODEL)\n",
    "# Load gender prediction model\n",
    "gender_net = cv2.dnn.readNetFromCaffe(GENDER_MODEL, GENDER_PROTO)\n",
    "def get_faces(frame, confidence_threshold=0.5):\n",
    "    # convert the frame into a blob to be ready for NN input\n",
    "    blob = cv2.dnn.blobFromImage(frame, 1.0, (300, 300), (104, 177.0, 123.0))\n",
    "    # set the image as input to the NN\n",
    "    face_net.setInput(blob)\n",
    "    # perform inference and get predictions\n",
    "    output = np.squeeze(face_net.forward())\n",
    "    # initialize the result list\n",
    "    faces = []\n",
    "    # Loop over the faces detected\n",
    "    for i in range(output.shape[0]):\n",
    "        confidence = output[i, 2]\n",
    "        if confidence > confidence_threshold:\n",
    "            box = output[i, 3:7] * \\\n",
    "                np.array([frame.shape[1], frame.shape[0],\n",
    "                         frame.shape[1], frame.shape[0]])\n",
    "            # convert to integers\n",
    "            start_x, start_y, end_x, end_y = box.astype(np.int)\n",
    "            # widen the box a little\n",
    "            start_x, start_y, end_x, end_y = start_x - \\\n",
    "                10, start_y - 10, end_x + 10, end_y + 10\n",
    "            start_x = 0 if start_x < 0 else start_x\n",
    "            start_y = 0 if start_y < 0 else start_y\n",
    "            end_x = 0 if end_x < 0 else end_x\n",
    "            end_y = 0 if end_y < 0 else end_y\n",
    "            # append to our list\n",
    "            faces.append((start_x, start_y, end_x, end_y))\n",
    "    return faces\n"
   ]
  },
  {
   "cell_type": "code",
   "execution_count": 59,
   "id": "2276a23e",
   "metadata": {},
   "outputs": [],
   "source": [
    "def display_img(title, img):\n",
    "    \"\"\"Displays an image on screen and maintains the output until the user presses a key\"\"\"\n",
    "    # Display Image on screen\n",
    "    cv2.imshow(title, img)\n",
    "    # Mantain output until user presses a key\n",
    "    cv2.waitKey(0)\n",
    "    # Destroy windows when user presses a key\n",
    "    cv2.destroyAllWindows()\n",
    "    \n",
    "def get_optimal_font_scale(text, width):\n",
    "    \"\"\"Determine the optimal font scale based on the hosting frame width\"\"\"\n",
    "    for scale in reversed(range(0, 60, 1)):\n",
    "        textSize = cv2.getTextSize(text, fontFace=cv2.FONT_HERSHEY_DUPLEX, fontScale=scale/10, thickness=1)\n",
    "        new_width = textSize[0][0]\n",
    "        if (new_width <= width):\n",
    "            return scale/10\n",
    "    return 1\n",
    "\n",
    "# from: https://stackoverflow.com/questions/44650888/resize-an-image-without-distortion-opencv\n",
    "def image_resize(image, width = None, height = None, inter = cv2.INTER_AREA):\n",
    "    # initialize the dimensions of the image to be resized and\n",
    "    # grab the image size\n",
    "    dim = None\n",
    "    (h, w) = image.shape[:2]\n",
    "    # if both the width and height are None, then return the\n",
    "    # original image\n",
    "    if width is None and height is None:\n",
    "        return image\n",
    "    # check to see if the width is None\n",
    "    if width is None:\n",
    "        # calculate the ratio of the height and construct the\n",
    "        # dimensions\n",
    "        r = height / float(h)\n",
    "        dim = (int(w * r), height)\n",
    "    # otherwise, the height is None\n",
    "    else:\n",
    "        # calculate the ratio of the width and construct the\n",
    "        # dimensions\n",
    "        r = width / float(w)\n",
    "        dim = (width, int(h * r))\n",
    "    # resize the image\n",
    "    return cv2.resize(image, dim, interpolation = inter)\n",
    "\n",
    "def predict_gender(input_path: str):\n",
    "    \"\"\"Predict the gender of the faces showing in the image\"\"\"\n",
    "    # Read Input Image\n",
    "    img = cv2.imread(input_path)\n",
    "    # resize the image, uncomment if you want to resize the image\n",
    "    # img = cv2.resize(img, (frame_width, frame_height))\n",
    "    # Take a copy of the initial image and resize it\n",
    "    frame = img.copy()\n",
    "    if frame.shape[1] > frame_width:\n",
    "        frame = image_resize(frame, width=frame_width)\n",
    "    # predict the faces\n",
    "    faces = get_faces(frame)\n",
    "    # Loop over the faces detected\n",
    "    # for idx, face in enumerate(faces):\n",
    "    for i, (start_x, start_y, end_x, end_y) in enumerate(faces):\n",
    "        face_img = frame[start_y: end_y, start_x: end_x]\n",
    "        # image --> Input image to preprocess before passing it through our dnn for classification.\n",
    "        # scale factor = After performing mean substraction we can optionally scale the image by some factor. (if 1 -> no scaling)\n",
    "        # size = The spatial size that the CNN expects. Options are = (224*224, 227*227 or 299*299)\n",
    "        # mean = mean substraction values to be substracted from every channel of the image.\n",
    "        # swapRB=OpenCV assumes images in BGR whereas the mean is supplied in RGB. To resolve this we set swapRB to True.\n",
    "        blob = cv2.dnn.blobFromImage(image=face_img, scalefactor=1.0, size=(\n",
    "            227, 227), mean=MODEL_MEAN_VALUES, swapRB=False, crop=False)\n",
    "        # Predict Gender\n",
    "        gender_net.setInput(blob)\n",
    "        gender_preds = gender_net.forward()\n",
    "        i = gender_preds[0].argmax()\n",
    "        gender = GENDER_LIST[i]\n",
    "        gender_confidence_score = gender_preds[0][i]\n",
    "        # Draw the box\n",
    "        label = \"{}-{:.2f}%\".format(gender, gender_confidence_score*100)\n",
    "        print(label)\n",
    "        yPos = start_y - 15\n",
    "        while yPos < 15:\n",
    "            yPos += 15\n",
    "        # get the font scale for this image size\n",
    "        optimal_font_scale = get_optimal_font_scale(label,((end_x-start_x)+25))\n",
    "        box_color = (255, 0, 0) if gender == \"Male\" else (147, 20, 255)\n",
    "        cv2.rectangle(frame, (start_x, start_y), (end_x, end_y), box_color, 2)\n",
    "        # Label processed image\n",
    "        cv2.putText(frame, label, (start_x, yPos),\n",
    "                    cv2.FONT_HERSHEY_SIMPLEX, optimal_font_scale, box_color, 2)\n",
    "\n",
    "        # Display processed image\n",
    "    display_img(\"Gender Estimator\", frame)\n",
    "    # uncomment if you want to save the image\n",
    "    cv2.imwrite(\"output.jpg\", frame)\n",
    "    # Cleanup\n",
    "    cv2.destroyAllWindows()"
   ]
  }
 ],
 "metadata": {
  "kernelspec": {
   "display_name": "Python 3 (ipykernel)",
   "language": "python",
   "name": "python3"
  },
  "language_info": {
   "codemirror_mode": {
    "name": "ipython",
    "version": 3
   },
   "file_extension": ".py",
   "mimetype": "text/x-python",
   "name": "python",
   "nbconvert_exporter": "python",
   "pygments_lexer": "ipython3",
   "version": "3.8.12"
  }
 },
 "nbformat": 4,
 "nbformat_minor": 5
}
